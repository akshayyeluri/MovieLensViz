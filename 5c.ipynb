{
 "cells": [
  {
   "cell_type": "code",
   "execution_count": 3,
   "metadata": {},
   "outputs": [],
   "source": [
    "import numpy as np\n",
    "import pandas as pd\n",
    "import matplotlib.pyplot as plt\n",
    "import tqdm\n",
    "from surprise.reader import Reader\n",
    "from surprise import SVD, Dataset, accuracy, SVDpp\n",
    "from sklearn.decomposition import PCA\n",
    "np.random.seed(69)\n",
    "%matplotlib inline"
   ]
  },
  {
   "cell_type": "code",
   "execution_count": 4,
   "metadata": {},
   "outputs": [],
   "source": [
    "movie_df = pd.read_csv('data/movies_c.txt', delimiter='\\t', header=None,\n",
    "                       names=[\"Movie Id\", \"Movie Title\", \"Unknown\", \"Action\", \n",
    "                              \"Adventure\", \"Animation\", \"Childrens\", \"Comedy\", \n",
    "                              \"Crime\", \"Documentary\", \"Drama\", \"Fantasy\", \n",
    "                              \"Film-Noir\", \"Horror\", \"Musical\", \"Mystery\", \n",
    "                              \"Romance\", \"Sci-Fi\", \"Thriller\", \"War\", \n",
    "                              \"Western\"])\n",
    "\n",
    "data_df = pd.read_csv('data/data_c.txt', delimiter='\\t', header=None,\n",
    "                      names=[\"User Id\", \"Movie Id\", \"Rating\"])\n",
    "train_df = pd.read_csv('data/train_c.txt', delimiter='\\t', header=None,\n",
    "                      names=[\"User Id\", \"Movie Id\", \"Rating\"])\n",
    "test_df = pd.read_csv('data/test_c.txt', delimiter='\\t', header=None,\n",
    "                      names=[\"User Id\", \"Movie Id\", \"Rating\"])"
   ]
  },
  {
   "cell_type": "markdown",
   "metadata": {},
   "source": [
    "# 5)"
   ]
  },
  {
   "cell_type": "code",
   "execution_count": 16,
   "metadata": {},
   "outputs": [
    {
     "name": "stdout",
     "output_type": "stream",
     "text": [
      "RMSE: 0.9687\n"
     ]
    },
    {
     "data": {
      "text/plain": [
       "0.9384473950212315"
      ]
     },
     "execution_count": 16,
     "metadata": {},
     "output_type": "execute_result"
    }
   ],
   "source": [
    "Y = train_df.values\n",
    "\n",
    "reader = Reader(rating_scale=(1, 5))\n",
    "data = Dataset.load_from_df(train_df, reader)\n",
    "trainset = data.build_full_trainset()\n",
    "\n",
    "data = Dataset.load_from_df(test_df, reader)\n",
    "testset = data.construct_testset(data.raw_ratings)\n",
    "\n",
    "biased=False\n",
    "algo = SVD(n_factors = 20, n_epochs = 10, reg_all = 1e-3, biased=biased)\n",
    "algo.fit(trainset)\n",
    "\n",
    "U = algo.pu\n",
    "V = algo.qi\n",
    "if biased:\n",
    "    A = algo.bu\n",
    "    B = algo.bi\n",
    "    mu = Y[:, 2].mean()\n",
    "\n",
    "predictions = algo.test(testset)\n",
    "accuracy.rmse(predictions)**2"
   ]
  },
  {
   "cell_type": "code",
   "execution_count": 17,
   "metadata": {},
   "outputs": [],
   "source": [
    "def get_err_biased(U, V, A, B, mu, Y, reg=0.0):\n",
    "    \"\"\"\n",
    "    Takes as input a matrix Y of triples (i, j, Y_ij) where i is the index of a user,\n",
    "    j is the index of a movie, and Y_ij is user i's rating of movie j and\n",
    "    user/movie matrices U and V, as well as user biases A, movie biases B, and\n",
    "    overall offset mu.\n",
    "\n",
    "    Returns the mean regularized squared-error of predictions made by\n",
    "    estimating Y_{ij} as the dot product of the ith row of U and the jth column of V^T, \n",
    "    plus some bias terms.\n",
    "    \"\"\"\n",
    "    predict = np.matmul(U, np.transpose(V))\n",
    "    err = 0\n",
    "    for (i, j , y_ij) in Y:\n",
    "        err += (y_ij - mu - (predict[i][j] + A[i] + B[j]))**2\n",
    "    return (reg/2 * ((np.linalg.norm(U))**2 + (np.linalg.norm(V))**2 + (np.linalg.norm(A))**2 + (np.linalg.norm(B))**2) \n",
    "            + 0.5 * err)/len(Y)\n",
    "\n",
    "def get_err(U, V, Y, reg=0.0):\n",
    "    \"\"\"\n",
    "    Takes as input a matrix Y of triples (i, j, Y_ij) where i is the index of a user,\n",
    "    j is the index of a movie, and Y_ij is user i's rating of movie j and\n",
    "    user/movie matrices U and V\n",
    "\n",
    "    Returns the mean regularized squared-error of predictions made by\n",
    "    estimating Y_{ij} as the dot product of the ith row of U and the jth column of V^T\n",
    "    \"\"\"\n",
    "    predict = np.matmul(U, np.transpose(V))\n",
    "    err = 0\n",
    "    for (i, j , y_ij) in Y:\n",
    "        err += (y_ij - (predict[i][j])) ** 2\n",
    "    return (reg/2 * ((np.linalg.norm(U))**2 + (np.linalg.norm(V))**2) \n",
    "            + 0.5 * err)/len(Y)"
   ]
  },
  {
   "cell_type": "code",
   "execution_count": 18,
   "metadata": {},
   "outputs": [
    {
     "name": "stdout",
     "output_type": "stream",
     "text": [
      "1.0141860216178074\n",
      "1.0415904214278142\n"
     ]
    }
   ],
   "source": [
    "Y_test = test_df.values\n",
    "if biased:\n",
    "    print(get_err(U, V, A, B, mu, Y))\n",
    "    print(get_err(U, V, A, B, mu, Y_test))\n",
    "else:\n",
    "    print(get_err(U, V, Y))\n",
    "    print(get_err(U, V, Y_test))"
   ]
  },
  {
   "cell_type": "code",
   "execution_count": 8,
   "metadata": {},
   "outputs": [],
   "source": [
    "pca = PCA(3)\n",
    "V_p = pca.fit_transform(V)\n",
    "U_p = pca.transform(U)"
   ]
  }
 ],
 "metadata": {
  "kernelspec": {
   "display_name": "neural",
   "language": "python",
   "name": "neural"
  },
  "language_info": {
   "codemirror_mode": {
    "name": "ipython",
    "version": 3
   },
   "file_extension": ".py",
   "mimetype": "text/x-python",
   "name": "python",
   "nbconvert_exporter": "python",
   "pygments_lexer": "ipython3",
   "version": "3.6.7"
  }
 },
 "nbformat": 4,
 "nbformat_minor": 2
}
