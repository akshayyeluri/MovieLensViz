{
 "cells": [
  {
   "cell_type": "code",
   "execution_count": 138,
   "metadata": {},
   "outputs": [],
   "source": [
    "import numpy as np\n",
    "import pandas as pd\n",
    "import matplotlib.pyplot as plt\n",
    "import tqdm\n",
    "from surprise.reader import Reader\n",
    "from surprise import SVD, Dataset, accuracy, SVDpp\n",
    "from sklearn.decomposition import PCA\n",
    "np.random.seed(69)\n",
    "%matplotlib inline"
   ]
  },
  {
   "cell_type": "code",
   "execution_count": 108,
   "metadata": {},
   "outputs": [],
   "source": [
    "movie_df = pd.read_csv('data/movies_c.txt', delimiter='\\t', header=None,\n",
    "                       names=[\"Movie Id\", \"Movie Title\", \"Unknown\", \"Action\", \n",
    "                              \"Adventure\", \"Animation\", \"Childrens\", \"Comedy\", \n",
    "                              \"Crime\", \"Documentary\", \"Drama\", \"Fantasy\", \n",
    "                              \"Film-Noir\", \"Horror\", \"Musical\", \"Mystery\", \n",
    "                              \"Romance\", \"Sci-Fi\", \"Thriller\", \"War\", \n",
    "                              \"Western\"])\n",
    "\n",
    "data_df = pd.read_csv('data/data_c.txt', delimiter='\\t', header=None,\n",
    "                      names=[\"User Id\", \"Movie Id\", \"Rating\"])\n",
    "train_df = pd.read_csv('data/train_c.txt', delimiter='\\t', header=None,\n",
    "                      names=[\"User Id\", \"Movie Id\", \"Rating\"])\n",
    "test_df = pd.read_csv('data/test_c.txt', delimiter='\\t', header=None,\n",
    "                      names=[\"User Id\", \"Movie Id\", \"Rating\"])"
   ]
  },
  {
   "cell_type": "markdown",
   "metadata": {},
   "source": [
    "# 5)"
   ]
  },
  {
   "cell_type": "code",
   "execution_count": 140,
   "metadata": {},
   "outputs": [
    {
     "name": "stdout",
     "output_type": "stream",
     "text": [
      "RMSE: 0.9318\n"
     ]
    },
    {
     "data": {
      "text/plain": [
       "0.8682574467134928"
      ]
     },
     "execution_count": 140,
     "metadata": {},
     "output_type": "execute_result"
    }
   ],
   "source": [
    "Y = train_df.values\n",
    "M = train_df[\"User Id\"].max()\n",
    "N = movie_df[\"Movie Id\"].max()\n",
    "\n",
    "reader = Reader(rating_scale=(1, 5))\n",
    "data = Dataset.load_from_df(train_df, reader)\n",
    "trainset = data.build_full_trainset()\n",
    "\n",
    "data = Dataset.load_from_df(test_df, reader)\n",
    "testset = data.construct_testset(data.raw_ratings)\n",
    "\n",
    "algo = SVDpp(n_factors = 20, n_epochs = 20, reg_all = 1e-3)\n",
    "algo.fit(trainset)\n",
    "\n",
    "U = algo.pu\n",
    "V = algo.qi\n",
    "\n",
    "predictions = algo.test(testset)\n",
    "accuracy.rmse(predictions)**2"
   ]
  },
  {
   "cell_type": "code",
   "execution_count": 133,
   "metadata": {},
   "outputs": [],
   "source": [
    "V_p = pca.fit_transform(V)\n",
    "U_p = pca.transform(U)"
   ]
  },
  {
   "cell_type": "code",
   "execution_count": 112,
   "metadata": {},
   "outputs": [
    {
     "data": {
      "image/png": "[encoded data removed]",
      "text/plain": [
       "<Figure size 432x288 with 1 Axes>"
      ]
     },
     "metadata": {
      "needs_background": "light"
     },
     "output_type": "display_data"
    }
   ],
   "source": [
    "n_mov = 10\n",
    "ax = plt.subplot(111)\n",
    "ax.scatter(V_p[:n_mov, 0], V_p[:n_mov, 1])\n",
    "\n",
    "for i, txt in enumerate(movie_df[\"Movie Title\"][:n_mov]):\n",
    "    ax.annotate(txt, (V_p[i, 0], V_p[i, 1]))"
   ]
  },
  {
   "cell_type": "code",
   "execution_count": 121,
   "metadata": {},
   "outputs": [],
   "source": [
    "def get_err(U, V, Y, reg=0.0):\n",
    "    \"\"\"\n",
    "    Takes as input a matrix Y of triples (i, j, Y_ij) where i is the index of a user,\n",
    "    j is the index of a movie, and Y_ij is user i's rating of movie j and\n",
    "    user/movie matrices U and V.\n",
    "\n",
    "    Returns the mean regularized squared-error of predictions made by\n",
    "    estimating Y_{ij} as the dot product of the ith row of U and the jth column of V^T.\n",
    "    \"\"\"\n",
    "    Y2 = Y - np.array([[1, 1, 0]]) # Fix one-indexing\n",
    "    reg_err = reg / 2 * (np.linalg.norm(U) ** 2 + np.linalg.norm(V) ** 2)\n",
    "    Is, Js, Y_ij = Y2[:, 0], Y2[:, 1], Y2[:, 2]\n",
    "    mse = np.sum((Y_ij - np.sum(U[Is] * V[Js], axis=1)) ** 2) / 2\n",
    "    return (reg_err + mse) / Y.shape[0]"
   ]
  },
  {
   "cell_type": "code",
   "execution_count": 141,
   "metadata": {},
   "outputs": [
    {
     "name": "stdout",
     "output_type": "stream",
     "text": [
      "6.902491240443745\n",
      "6.89302599786253\n"
     ]
    }
   ],
   "source": [
    "Y_test = test_df.values\n",
    "print(get_err(U, V, Y))\n",
    "print(get_err(U, V, Y_test))"
   ]
  },
  {
   "cell_type": "code",
   "execution_count": null,
   "metadata": {},
   "outputs": [],
   "source": []
  }
 ],
 "metadata": {
  "kernelspec": {
   "display_name": "Python 3",
   "language": "python",
   "name": "python3"
  },
  "language_info": {
   "codemirror_mode": {
    "name": "ipython",
    "version": 3
   },
   "file_extension": ".py",
   "mimetype": "text/x-python",
   "name": "python",
   "nbconvert_exporter": "python",
   "pygments_lexer": "ipython3",
   "version": "3.7.6"
  }
 },
 "nbformat": 4,
 "nbformat_minor": 2
}
