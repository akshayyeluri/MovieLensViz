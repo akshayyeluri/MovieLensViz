{
 "cells": [
  {
   "cell_type": "code",
   "execution_count": 1,
   "metadata": {},
   "outputs": [],
   "source": [
    "import numpy as np\n",
    "import pandas as pd\n",
    "import matplotlib.pyplot as plt\n",
    "%matplotlib inline"
   ]
  },
  {
   "cell_type": "markdown",
   "metadata": {},
   "source": [
    "# 3) Data processing"
   ]
  },
  {
   "cell_type": "code",
   "execution_count": 2,
   "metadata": {},
   "outputs": [],
   "source": [
    "movie_df = pd.read_csv('data/movies.txt', delimiter='\\t', header=None,\n",
    "                       names=[\"Movie Id\", \"Movie Title\", \"Unknown\", \"Action\", \n",
    "                              \"Adventure\", \"Animation\", \"Childrens\", \"Comedy\", \n",
    "                              \"Crime\", \"Documentary\", \"Drama\", \"Fantasy\", \n",
    "                              \"Film-Noir\", \"Horror\", \"Musical\", \"Mystery\", \n",
    "                              \"Romance\", \"Sci-Fi\", \"Thriller\", \"War\", \n",
    "                              \"Western\"])\n",
    "\n",
    "data_df = pd.read_csv('data/data.txt', delimiter='\\t', header=None,\n",
    "                      names=[\"User Id\", \"Movie Id\", \"Rating\"])"
   ]
  },
  {
   "cell_type": "markdown",
   "metadata": {},
   "source": [
    "### Clean Data"
   ]
  },
  {
   "cell_type": "code",
   "execution_count": 3,
   "metadata": {},
   "outputs": [],
   "source": [
    "# Get rid of duplicate movies\n",
    "for title, sub_df in movie_df.groupby(['Movie Title']):\n",
    "    if (len(sub_df) > 1):\n",
    "        # Get of equivalent ids along with representative (lowest id)\n",
    "        eq_ids, rep = set(sub_df[\"Movie Id\"]), sub_df[\"Movie Id\"].values[0]\n",
    "        data_df.loc[data_df[\"Movie Id\"].isin(eq_ids), \"Movie Id\"] = rep\n",
    "\n",
    "cols = list(movie_df.columns); cols.remove(\"Movie Id\")\n",
    "movie_df = movie_df.drop_duplicates(subset = cols, keep='first')\n",
    "\n",
    "# Get rid of movies with no reviews\n",
    "reviewed = set(movie_df[\"Movie Id\"]).intersection(set(data_df[\"Movie Id\"]))\n",
    "movie_df = movie_df.loc[movie_df[\"Movie Id\"].isin(reviewed), :]\n",
    "\n",
    "# Make sure it worked?\n",
    "assert(len(set(movie_df[\"Movie Title\"])) == len(movie_df))\n",
    "assert(set(movie_df[\"Movie Id\"]) == set(data_df[\"Movie Id\"]))"
   ]
  },
  {
   "cell_type": "markdown",
   "metadata": {},
   "source": [
    "### Reset Ids"
   ]
  },
  {
   "cell_type": "code",
   "execution_count": 4,
   "metadata": {},
   "outputs": [
    {
     "data": {
      "text/html": [
       "<div>\n",
       "<style scoped>\n",
       "    .dataframe tbody tr th:only-of-type {\n",
       "        vertical-align: middle;\n",
       "    }\n",
       "\n",
       "    .dataframe tbody tr th {\n",
       "        vertical-align: top;\n",
       "    }\n",
       "\n",
       "    .dataframe thead th {\n",
       "        text-align: right;\n",
       "    }\n",
       "</style>\n",
       "<table border=\"1\" class=\"dataframe\">\n",
       "  <thead>\n",
       "    <tr style=\"text-align: right;\">\n",
       "      <th></th>\n",
       "      <th>Movie Id</th>\n",
       "      <th>Movie Title</th>\n",
       "      <th>Unknown</th>\n",
       "      <th>Action</th>\n",
       "      <th>Adventure</th>\n",
       "      <th>Animation</th>\n",
       "      <th>Childrens</th>\n",
       "      <th>Comedy</th>\n",
       "      <th>Crime</th>\n",
       "      <th>Documentary</th>\n",
       "      <th>...</th>\n",
       "      <th>Fantasy</th>\n",
       "      <th>Film-Noir</th>\n",
       "      <th>Horror</th>\n",
       "      <th>Musical</th>\n",
       "      <th>Mystery</th>\n",
       "      <th>Romance</th>\n",
       "      <th>Sci-Fi</th>\n",
       "      <th>Thriller</th>\n",
       "      <th>War</th>\n",
       "      <th>Western</th>\n",
       "    </tr>\n",
       "  </thead>\n",
       "  <tbody>\n",
       "    <tr>\n",
       "      <th>1661</th>\n",
       "      <td>1661</td>\n",
       "      <td>B. Monkey (1998)</td>\n",
       "      <td>0</td>\n",
       "      <td>0</td>\n",
       "      <td>0</td>\n",
       "      <td>0</td>\n",
       "      <td>0</td>\n",
       "      <td>0</td>\n",
       "      <td>0</td>\n",
       "      <td>0</td>\n",
       "      <td>...</td>\n",
       "      <td>0</td>\n",
       "      <td>0</td>\n",
       "      <td>0</td>\n",
       "      <td>0</td>\n",
       "      <td>0</td>\n",
       "      <td>1</td>\n",
       "      <td>0</td>\n",
       "      <td>1</td>\n",
       "      <td>0</td>\n",
       "      <td>0</td>\n",
       "    </tr>\n",
       "    <tr>\n",
       "      <th>1662</th>\n",
       "      <td>1662</td>\n",
       "      <td>You So Crazy (1994)</td>\n",
       "      <td>0</td>\n",
       "      <td>0</td>\n",
       "      <td>0</td>\n",
       "      <td>0</td>\n",
       "      <td>0</td>\n",
       "      <td>1</td>\n",
       "      <td>0</td>\n",
       "      <td>0</td>\n",
       "      <td>...</td>\n",
       "      <td>0</td>\n",
       "      <td>0</td>\n",
       "      <td>0</td>\n",
       "      <td>0</td>\n",
       "      <td>0</td>\n",
       "      <td>0</td>\n",
       "      <td>0</td>\n",
       "      <td>0</td>\n",
       "      <td>0</td>\n",
       "      <td>0</td>\n",
       "    </tr>\n",
       "    <tr>\n",
       "      <th>1663</th>\n",
       "      <td>1663</td>\n",
       "      <td>Scream of Stone (Schrei aus Stein) (1991)</td>\n",
       "      <td>0</td>\n",
       "      <td>0</td>\n",
       "      <td>0</td>\n",
       "      <td>0</td>\n",
       "      <td>0</td>\n",
       "      <td>0</td>\n",
       "      <td>0</td>\n",
       "      <td>0</td>\n",
       "      <td>...</td>\n",
       "      <td>0</td>\n",
       "      <td>0</td>\n",
       "      <td>0</td>\n",
       "      <td>0</td>\n",
       "      <td>0</td>\n",
       "      <td>0</td>\n",
       "      <td>0</td>\n",
       "      <td>0</td>\n",
       "      <td>0</td>\n",
       "      <td>0</td>\n",
       "    </tr>\n",
       "  </tbody>\n",
       "</table>\n",
       "<p>3 rows × 21 columns</p>\n",
       "</div>"
      ],
      "text/plain": [
       "      Movie Id                                Movie Title  Unknown  Action  \\\n",
       "1661      1661                           B. Monkey (1998)        0       0   \n",
       "1662      1662                        You So Crazy (1994)        0       0   \n",
       "1663      1663  Scream of Stone (Schrei aus Stein) (1991)        0       0   \n",
       "\n",
       "      Adventure  Animation  Childrens  Comedy  Crime  Documentary  ...  \\\n",
       "1661          0          0          0       0      0            0  ...   \n",
       "1662          0          0          0       1      0            0  ...   \n",
       "1663          0          0          0       0      0            0  ...   \n",
       "\n",
       "      Fantasy  Film-Noir  Horror  Musical  Mystery  Romance  Sci-Fi  Thriller  \\\n",
       "1661        0          0       0        0        0        1       0         1   \n",
       "1662        0          0       0        0        0        0       0         0   \n",
       "1663        0          0       0        0        0        0       0         0   \n",
       "\n",
       "      War  Western  \n",
       "1661    0        0  \n",
       "1662    0        0  \n",
       "1663    0        0  \n",
       "\n",
       "[3 rows x 21 columns]"
      ]
     },
     "execution_count": 4,
     "metadata": {},
     "output_type": "execute_result"
    }
   ],
   "source": [
    "movie_df = movie_df.reset_index(drop=True)\n",
    "to_replace = {Id: index for Id, index in zip(movie_df[\"Movie Id\"], movie_df.index)}\n",
    "movie_df[\"Movie Id\"] = movie_df[\"Movie Id\"].map(to_replace)\n",
    "data_df[\"Movie Id\"] = data_df[\"Movie Id\"].map(to_replace)\n",
    "movie_df.tail(3) # Make sure Movie Id col and actual id's line up"
   ]
  },
  {
   "cell_type": "markdown",
   "metadata": {},
   "source": [
    "# 4) Basic Visualization"
   ]
  },
  {
   "cell_type": "code",
   "execution_count": 16,
   "metadata": {},
   "outputs": [
    {
     "data": {
      "image/png": "[encoded data removed]",
      "text/plain": [
       "<Figure size 432x288 with 1 Axes>"
      ]
     },
     "metadata": {
      "needs_background": "light"
     },
     "output_type": "display_data"
    }
   ],
   "source": [
    "hist_vals = data_df[\"Rating\"].value_counts().sort_index()\n",
    "hist_vals.plot(kind=\"bar\", width=1.0, color=['b', 'r', 'k', 'g', 'y'])\n",
    "plt.tight_layout(); plt.xlabel(\"Rating\"); plt.ylabel(\"Count\");\n",
    "plt.title('All MovieLens Ratings');"
   ]
  },
  {
   "cell_type": "code",
   "execution_count": 28,
   "metadata": {},
   "outputs": [
    {
     "data": {
      "image/png": "[encoded data removed]",
      "text/plain": [
       "<Figure size 432x288 with 1 Axes>"
      ]
     },
     "metadata": {
      "needs_background": "light"
     },
     "output_type": "display_data"
    }
   ],
   "source": [
    "nMovies = 10\n",
    "pop_movs = data_df[\"Movie Id\"].value_counts()[:nMovies].index\n",
    "ratings = data_df.loc[data_df[\"Movie Id\"].isin(pop_movs), \"Rating\"]\n",
    "\n",
    "# histogram the ratings\n",
    "hist_vals = ratings.value_counts().sort_index()\n",
    "hist_vals.plot(kind=\"bar\", width=1.0, color=['b', 'r', 'k', 'g', 'y'])\n",
    "plt.tight_layout(); plt.xlabel(\"Rating\"); plt.ylabel(\"Count\");\n",
    "plt.title(f'Ratings for top {nMovies} movies by popularity');"
   ]
  },
  {
   "cell_type": "code",
   "execution_count": 41,
   "metadata": {},
   "outputs": [
    {
     "data": {
      "image/png": "[encoded data removed]",
      "text/plain": [
       "<Figure size 432x288 with 1 Axes>"
      ]
     },
     "metadata": {
      "needs_background": "light"
     },
     "output_type": "display_data"
    }
   ],
   "source": [
    "nMovies = 10\n",
    "av_ratings = data_df.groupby(\"Movie Id\").aggregate('mean')\n",
    "sort_ratings = av_ratings.sort_values(by='Rating', axis='index', ascending=False)\n",
    "best_movs = sort_ratings[:nMovies].index\n",
    "ratings = data_df.loc[data_df[\"Movie Id\"].isin(best_movs), \"Rating\"]\n",
    "\n",
    "# histogram the ratings\n",
    "hist_vals = ratings.value_counts().sort_index()\n",
    "hist_vals.plot(kind=\"bar\", width=1.0, color=['b', 'r', 'k', 'g', 'y'])\n",
    "plt.tight_layout(); plt.xlabel(\"Rating\"); plt.ylabel(\"Count\");\n",
    "plt.title(f'Ratings for top {nMovies} movies by rating');"
   ]
  },
  {
   "cell_type": "code",
   "execution_count": 49,
   "metadata": {},
   "outputs": [
    {
     "data": {
      "image/png": "[encoded data removed]",
      "text/plain": [
       "<Figure size 1080x288 with 3 Axes>"
      ]
     },
     "metadata": {
      "needs_background": "light"
     },
     "output_type": "display_data"
    }
   ],
   "source": [
    "genres = [\"Adventure\", \"Animation\", \"Childrens\"]\n",
    "fig, axes = plt.subplots(1, len(genres), figsize = (5 * len(genres), 4))\n",
    "\n",
    "for ax, genre in zip(axes, genres):\n",
    "    ids = movie_df.loc[movie_df[genre] == 1, \"Movie Id\"]\n",
    "    ratings = data_df.loc[data_df[\"Movie Id\"].isin(ids), \"Rating\"]\n",
    "    hist_vals = ratings.value_counts().sort_index()\n",
    "    hist_vals.plot(kind=\"bar\", width=1.0, color=['b', 'r', 'k', 'g', 'y'], ax=ax)\n",
    "    ax.set_xlabel(\"Rating\"); ax.set_ylabel(\"Count\");\n",
    "    ax.set_title(f'Ratings for all {genre} movies');\n",
    "    \n",
    "plt.tight_layout();"
   ]
  }
 ],
 "metadata": {
  "kernelspec": {
   "display_name": "neural",
   "language": "python",
   "name": "neural"
  },
  "language_info": {
   "codemirror_mode": {
    "name": "ipython",
    "version": 3
   },
   "file_extension": ".py",
   "mimetype": "text/x-python",
   "name": "python",
   "nbconvert_exporter": "python",
   "pygments_lexer": "ipython3",
   "version": "3.6.7"
  }
 },
 "nbformat": 4,
 "nbformat_minor": 2
}
