{
 "cells": [
  {
   "cell_type": "code",
   "execution_count": 1,
   "metadata": {},
   "outputs": [],
   "source": [
    "import numpy as np\n",
    "import pandas as pd\n",
    "import matplotlib.pyplot as plt\n",
    "from mpl_toolkits.mplot3d import Axes3D\n",
    "%matplotlib inline\n",
    "np.random.seed(69)\n",
    "\n",
    "import tqdm\n",
    "\n",
    "from sklearn.decomposition import PCA\n",
    "\n",
    "from viz_helpers import plot_w_genre"
   ]
  },
  {
   "cell_type": "code",
   "execution_count": 2,
   "metadata": {},
   "outputs": [],
   "source": [
    "movie_df = pd.read_csv('data/movies_c.txt', delimiter='\\t', header=None,\n",
    "                       names=[\"Movie Id\", \"Movie Title\", \"Unknown\", \"Action\", \n",
    "                              \"Adventure\", \"Animation\", \"Childrens\", \"Comedy\", \n",
    "                              \"Crime\", \"Documentary\", \"Drama\", \"Fantasy\", \n",
    "                              \"Film-Noir\", \"Horror\", \"Musical\", \"Mystery\", \n",
    "                              \"Romance\", \"Sci-Fi\", \"Thriller\", \"War\", \n",
    "                              \"Western\"])\n",
    "\n",
    "data_df = pd.read_csv('data/data_c.txt', delimiter='\\t', header=None,\n",
    "                      names=[\"User Id\", \"Movie Id\", \"Rating\"])\n",
    "train_df = pd.read_csv('data/train_c.txt', delimiter='\\t', header=None,\n",
    "                      names=[\"User Id\", \"Movie Id\", \"Rating\"])\n",
    "test_df = pd.read_csv('data/test_c.txt', delimiter='\\t', header=None,\n",
    "                      names=[\"User Id\", \"Movie Id\", \"Rating\"])"
   ]
  },
  {
   "cell_type": "markdown",
   "metadata": {},
   "source": [
    "## Helper functions"
   ]
  },
  {
   "cell_type": "code",
   "execution_count": 3,
   "metadata": {},
   "outputs": [],
   "source": [
    "def grad_U(Ui, Yij, Vj, reg, eta):\n",
    "    \"\"\"\n",
    "    Takes as input Ui (the ith row of U), a training point Yij, the column\n",
    "    vector Vj (jth column of V^T), reg (the regularization parameter lambda),\n",
    "    and eta (the learning rate).\n",
    "\n",
    "    Returns the gradient of the regularized loss function with\n",
    "    respect to Ui multiplied by eta.\n",
    "    \"\"\"\n",
    "    return eta * (reg * Ui - Vj * (Yij - np.dot(Ui, Vj))) \n",
    "\n",
    "def grad_V(Vj, Yij, Ui, reg, eta):\n",
    "    \"\"\"\n",
    "    Takes as input the column vector Vj (jth column of V^T), a training point Yij,\n",
    "    Ui (the ith row of U), reg (the regularization parameter lambda),\n",
    "    and eta (the learning rate).\n",
    "\n",
    "    Returns the gradient of the regularized loss function with\n",
    "    respect to Vj multiplied by eta.\n",
    "    \"\"\"\n",
    "    return eta * (reg * Vj - Ui * (Yij - np.dot(Ui, Vj))) \n",
    "\n",
    "def get_err(U, V, Y, reg=0.0):\n",
    "    \"\"\"\n",
    "    Takes as input a matrix Y of triples (i, j, Y_ij) where i is the index of a user,\n",
    "    j is the index of a movie, and Y_ij is user i's rating of movie j and\n",
    "    user/movie matrices U and V.\n",
    "\n",
    "    Returns the mean regularized squared-error of predictions made by\n",
    "    estimating Y_{ij} as the dot product of the ith row of U and the jth column of V^T.\n",
    "    \"\"\"\n",
    "    Y2 = Y - np.array([[1, 1, 0]]) # Fix one-indexing\n",
    "    reg_err = reg / 2 * (np.linalg.norm(U) ** 2 + np.linalg.norm(V) ** 2)\n",
    "    Is, Js, Y_ij = Y2[:, 0], Y2[:, 1], Y2[:, 2]\n",
    "    mse = np.sum((Y_ij - np.sum(U[Is] * V[Js], axis=1)) ** 2) / 2\n",
    "    return (reg_err + mse) / Y.shape[0]\n",
    "\n",
    "\n",
    "def train_model(M, N, K, eta, reg, Y, eps=0.0001, max_epochs=300,\n",
    "               desc='train_loop'):\n",
    "    \"\"\"\n",
    "    Given a training data matrix Y containing rows (i, j, Y_ij)\n",
    "    where Y_ij is user i's rating on movie j, learns an\n",
    "    M x K matrix U and N x K matrix V such that rating Y_ij is approximated\n",
    "    by (UV^T)_ij.\n",
    "\n",
    "    Uses a learning rate of <eta> and regularization of <reg>. Stops after\n",
    "    <max_epochs> epochs, or once the magnitude of the decrease in regularized\n",
    "    MSE between epochs is smaller than a fraction <eps> of the decrease in\n",
    "    MSE after the first epoch.\n",
    "\n",
    "    Returns a tuple (U, V, err) consisting of U, V, and the unregularized MSE\n",
    "    of the model.\n",
    "    \"\"\"\n",
    "    \n",
    "    U = np.random.rand(M, K) - 0.5\n",
    "    V = np.random.rand(N, K) - 0.5\n",
    "    old_loss = get_err(U, V, Y, reg=reg)\n",
    "    \n",
    "    for e in tqdm.tqdm_notebook(range(max_epochs), desc=desc):\n",
    "        Y_curr = Y[np.random.permutation(Y.shape[0])]\n",
    "        for (i, j, y_ij) in Y_curr:\n",
    "            i, j = i-1, j-1 # Fix One-indexing\n",
    "            U[i] -= grad_U(U[i], y_ij, V[j], reg, eta)\n",
    "            V[j] -= grad_V(V[j], y_ij, U[i], reg, eta)\n",
    "            \n",
    "        new_loss = get_err(U, V, Y, reg=reg)\n",
    "        if e == 0:\n",
    "            loss_delta = old_loss - new_loss\n",
    "        if (old_loss - new_loss) / loss_delta <= eps:\n",
    "            break\n",
    "        old_loss = new_loss\n",
    "        \n",
    "    return (U, V, get_err(U, V, Y, reg=0.0))"
   ]
  },
  {
   "cell_type": "markdown",
   "metadata": {},
   "source": [
    "## Run code"
   ]
  },
  {
   "cell_type": "code",
   "execution_count": 4,
   "metadata": {},
   "outputs": [
    {
     "name": "stderr",
     "output_type": "stream",
     "text": [
      "/usr/local/lib/python3.7/site-packages/ipykernel_launcher.py:60: TqdmDeprecationWarning: This function will be removed in tqdm==5.0.0\n",
      "Please use `tqdm.notebook.tqdm` instead of `tqdm.tqdm_notebook`\n"
     ]
    },
    {
     "data": {
      "application/vnd.jupyter.widget-view+json": {
       "model_id": "8d338e50fe8d47b08ebbf3145c277c66",
       "version_major": 2,
       "version_minor": 0
      },
      "text/plain": [
       "HBox(children=(FloatProgress(value=0.0, description='train_loop', max=300.0, style=ProgressStyle(description_w…"
      ]
     },
     "metadata": {},
     "output_type": "display_data"
    }
   ],
   "source": [
    "Y = train_df.values\n",
    "Y_test = test_df.values\n",
    "M = train_df[\"User Id\"].max()\n",
    "N = movie_df[\"Movie Id\"].max()\n",
    "\n",
    "K = 20; eta = 0.03; reg=1e-3\n",
    "U, V, err = train_model(M, N, K, eta, reg, Y)"
   ]
  },
  {
   "cell_type": "code",
   "execution_count": 7,
   "metadata": {},
   "outputs": [
    {
     "data": {
      "image/png": "[encoded data removed]",
      "text/plain": [
       "<Figure size 1296x720 with 1 Axes>"
      ]
     },
     "metadata": {
      "needs_background": "light"
     },
     "output_type": "display_data"
    }
   ],
   "source": [
    "pca = PCA(3)\n",
    "V_p = pca.fit_transform(V)\n",
    "U_p = pca.transform(U)\n",
    "\n",
    "genres = [\"Horror\", \"Romance\", \"Comedy\"]\n",
    "n_mov = 50\n",
    "plot_w_genre(genres, movie_df, V_p, n_mov=n_mov, dim_3=False, annotate = False)\n",
    "plt.gcf().set_size_inches(18, 10)"
   ]
  },
  {
   "cell_type": "code",
   "execution_count": null,
   "metadata": {},
   "outputs": [],
   "source": []
  },
  {
   "cell_type": "code",
   "execution_count": null,
   "metadata": {},
   "outputs": [],
   "source": []
  }
 ],
 "metadata": {
  "kernelspec": {
   "display_name": "Python 3",
   "language": "python",
   "name": "python3"
  },
  "language_info": {
   "codemirror_mode": {
    "name": "ipython",
    "version": 3
   },
   "file_extension": ".py",
   "mimetype": "text/x-python",
   "name": "python",
   "nbconvert_exporter": "python",
   "pygments_lexer": "ipython3",
   "version": "3.7.6"
  }
 },
 "nbformat": 4,
 "nbformat_minor": 2
}
