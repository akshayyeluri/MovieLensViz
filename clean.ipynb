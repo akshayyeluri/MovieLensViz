{
 "cells": [
  {
   "cell_type": "code",
   "execution_count": 1,
   "metadata": {},
   "outputs": [],
   "source": [
    "import numpy as np\n",
    "import pandas as pd\n",
    "import matplotlib.pyplot as plt\n",
    "np.random.seed(69)\n",
    "%matplotlib inline"
   ]
  },
  {
   "cell_type": "code",
   "execution_count": 2,
   "metadata": {},
   "outputs": [],
   "source": [
    "movie_df = pd.read_csv('data/movies.txt', delimiter='\\t', header=None,\n",
    "                       names=[\"Movie Id\", \"Movie Title\", \"Unknown\", \"Action\", \n",
    "                              \"Adventure\", \"Animation\", \"Childrens\", \"Comedy\", \n",
    "                              \"Crime\", \"Documentary\", \"Drama\", \"Fantasy\", \n",
    "                              \"Film-Noir\", \"Horror\", \"Musical\", \"Mystery\", \n",
    "                              \"Romance\", \"Sci-Fi\", \"Thriller\", \"War\", \n",
    "                              \"Western\"])\n",
    "\n",
    "data_df = pd.read_csv('data/data.txt', delimiter='\\t', header=None,\n",
    "                      names=[\"User Id\", \"Movie Id\", \"Rating\"])"
   ]
  },
  {
   "cell_type": "markdown",
   "metadata": {},
   "source": [
    "### Clean Data"
   ]
  },
  {
   "cell_type": "code",
   "execution_count": 3,
   "metadata": {},
   "outputs": [],
   "source": [
    "# Get rid of duplicate movies\n",
    "for title, sub_df in movie_df.groupby(['Movie Title']):\n",
    "    if (len(sub_df) > 1):\n",
    "        # Get of equivalent ids along with representative (lowest id)\n",
    "        eq_ids, rep = set(sub_df[\"Movie Id\"]), sub_df[\"Movie Id\"].values[0]\n",
    "        \n",
    "        data_df.loc[data_df[\"Movie Id\"].isin(eq_ids), \"Movie Id\"] = rep\n",
    "\n",
    "cols = list(movie_df.columns); cols.remove(\"Movie Id\")\n",
    "movie_df = movie_df.drop_duplicates(subset = cols, keep='first')"
   ]
  },
  {
   "cell_type": "code",
   "execution_count": 4,
   "metadata": {},
   "outputs": [],
   "source": [
    "# Make train and test dfs\n",
    "n_train = 9 * data_df.shape[0] // 10\n",
    "inds = np.random.permutation(data_df.shape[0])\n",
    "train_df = data_df.loc[:n_train]\n",
    "test_df = data_df.loc[n_train:]\n",
    "\n",
    "# Dump movies not in train\n",
    "reviewed = set(movie_df[\"Movie Id\"]).intersection(set(train_df[\"Movie Id\"]))\n",
    "movie_df = movie_df.loc[movie_df[\"Movie Id\"].isin(reviewed), :]\n",
    "data_df = data_df.loc[data_df[\"Movie Id\"].isin(reviewed), :]\n",
    "test_df = test_df.loc[test_df[\"Movie Id\"].isin(reviewed), :]"
   ]
  },
  {
   "cell_type": "markdown",
   "metadata": {},
   "source": [
    "### Reset Ids"
   ]
  },
  {
   "cell_type": "code",
   "execution_count": 5,
   "metadata": {},
   "outputs": [
    {
     "data": {
      "text/html": [
       "<div>\n",
       "<style scoped>\n",
       "    .dataframe tbody tr th:only-of-type {\n",
       "        vertical-align: middle;\n",
       "    }\n",
       "\n",
       "    .dataframe tbody tr th {\n",
       "        vertical-align: top;\n",
       "    }\n",
       "\n",
       "    .dataframe thead th {\n",
       "        text-align: right;\n",
       "    }\n",
       "</style>\n",
       "<table border=\"1\" class=\"dataframe\">\n",
       "  <thead>\n",
       "    <tr style=\"text-align: right;\">\n",
       "      <th></th>\n",
       "      <th>Movie Id</th>\n",
       "      <th>Movie Title</th>\n",
       "      <th>Unknown</th>\n",
       "      <th>Action</th>\n",
       "      <th>Adventure</th>\n",
       "      <th>Animation</th>\n",
       "      <th>Childrens</th>\n",
       "      <th>Comedy</th>\n",
       "      <th>Crime</th>\n",
       "      <th>Documentary</th>\n",
       "      <th>...</th>\n",
       "      <th>Fantasy</th>\n",
       "      <th>Film-Noir</th>\n",
       "      <th>Horror</th>\n",
       "      <th>Musical</th>\n",
       "      <th>Mystery</th>\n",
       "      <th>Romance</th>\n",
       "      <th>Sci-Fi</th>\n",
       "      <th>Thriller</th>\n",
       "      <th>War</th>\n",
       "      <th>Western</th>\n",
       "    </tr>\n",
       "  </thead>\n",
       "  <tbody>\n",
       "    <tr>\n",
       "      <th>1643</th>\n",
       "      <td>1644</td>\n",
       "      <td>Sweet Nothing (1995)</td>\n",
       "      <td>0</td>\n",
       "      <td>0</td>\n",
       "      <td>0</td>\n",
       "      <td>0</td>\n",
       "      <td>0</td>\n",
       "      <td>0</td>\n",
       "      <td>0</td>\n",
       "      <td>0</td>\n",
       "      <td>...</td>\n",
       "      <td>0</td>\n",
       "      <td>0</td>\n",
       "      <td>0</td>\n",
       "      <td>0</td>\n",
       "      <td>0</td>\n",
       "      <td>0</td>\n",
       "      <td>0</td>\n",
       "      <td>0</td>\n",
       "      <td>0</td>\n",
       "      <td>0</td>\n",
       "    </tr>\n",
       "    <tr>\n",
       "      <th>1644</th>\n",
       "      <td>1645</td>\n",
       "      <td>Mat' i syn (1997)</td>\n",
       "      <td>0</td>\n",
       "      <td>0</td>\n",
       "      <td>0</td>\n",
       "      <td>0</td>\n",
       "      <td>0</td>\n",
       "      <td>0</td>\n",
       "      <td>0</td>\n",
       "      <td>0</td>\n",
       "      <td>...</td>\n",
       "      <td>0</td>\n",
       "      <td>0</td>\n",
       "      <td>0</td>\n",
       "      <td>0</td>\n",
       "      <td>0</td>\n",
       "      <td>0</td>\n",
       "      <td>0</td>\n",
       "      <td>0</td>\n",
       "      <td>0</td>\n",
       "      <td>0</td>\n",
       "    </tr>\n",
       "    <tr>\n",
       "      <th>1645</th>\n",
       "      <td>1646</td>\n",
       "      <td>B. Monkey (1998)</td>\n",
       "      <td>0</td>\n",
       "      <td>0</td>\n",
       "      <td>0</td>\n",
       "      <td>0</td>\n",
       "      <td>0</td>\n",
       "      <td>0</td>\n",
       "      <td>0</td>\n",
       "      <td>0</td>\n",
       "      <td>...</td>\n",
       "      <td>0</td>\n",
       "      <td>0</td>\n",
       "      <td>0</td>\n",
       "      <td>0</td>\n",
       "      <td>0</td>\n",
       "      <td>1</td>\n",
       "      <td>0</td>\n",
       "      <td>1</td>\n",
       "      <td>0</td>\n",
       "      <td>0</td>\n",
       "    </tr>\n",
       "  </tbody>\n",
       "</table>\n",
       "<p>3 rows × 21 columns</p>\n",
       "</div>"
      ],
      "text/plain": [
       "      Movie Id           Movie Title  Unknown  Action  Adventure  Animation  \\\n",
       "1643      1644  Sweet Nothing (1995)        0       0          0          0   \n",
       "1644      1645     Mat' i syn (1997)        0       0          0          0   \n",
       "1645      1646      B. Monkey (1998)        0       0          0          0   \n",
       "\n",
       "      Childrens  Comedy  Crime  Documentary  ...  Fantasy  Film-Noir  Horror  \\\n",
       "1643          0       0      0            0  ...        0          0       0   \n",
       "1644          0       0      0            0  ...        0          0       0   \n",
       "1645          0       0      0            0  ...        0          0       0   \n",
       "\n",
       "      Musical  Mystery  Romance  Sci-Fi  Thriller  War  Western  \n",
       "1643        0        0        0       0         0    0        0  \n",
       "1644        0        0        0       0         0    0        0  \n",
       "1645        0        0        1       0         1    0        0  \n",
       "\n",
       "[3 rows x 21 columns]"
      ]
     },
     "execution_count": 5,
     "metadata": {},
     "output_type": "execute_result"
    }
   ],
   "source": [
    "movie_df = movie_df.reset_index(drop=True)\n",
    "# Use one-indexing\n",
    "to_replace = {Id: (index + 1) for Id, index in zip(movie_df[\"Movie Id\"], movie_df.index)}\n",
    "movie_df[\"Movie Id\"] = movie_df[\"Movie Id\"].map(to_replace)\n",
    "\n",
    "data_df[\"Movie Id\"] = data_df[\"Movie Id\"].map(to_replace)\n",
    "train_df[\"Movie Id\"] = train_df[\"Movie Id\"].map(to_replace)\n",
    "test_df[\"Movie Id\"] = test_df[\"Movie Id\"].map(to_replace)\n",
    "\n",
    "# Make sure it worked?\n",
    "assert(len(set(movie_df[\"Movie Title\"])) == len(movie_df))\n",
    "assert(len(set(movie_df[\"Movie Id\"])) == len(set(train_df[\"Movie Id\"])))\n",
    "\n",
    "movie_df.tail(3) "
   ]
  },
  {
   "cell_type": "markdown",
   "metadata": {},
   "source": [
    "### Dump cleaned csvs"
   ]
  },
  {
   "cell_type": "code",
   "execution_count": 6,
   "metadata": {},
   "outputs": [],
   "source": [
    "train_df.to_csv('data/train_c.txt', sep='\\t', header=False, index=False)\n",
    "test_df.to_csv('data/test_c.txt', sep='\\t', header=False, index=False)\n",
    "data_df.to_csv('data/data_c.txt', sep='\\t', header=False, index=False)\n",
    "movie_df.to_csv('data/movies_c.txt', sep='\\t', header=False, index=False)"
   ]
  }
 ],
 "metadata": {
  "kernelspec": {
   "display_name": "neural",
   "language": "python",
   "name": "neural"
  },
  "language_info": {
   "codemirror_mode": {
    "name": "ipython",
    "version": 3
   },
   "file_extension": ".py",
   "mimetype": "text/x-python",
   "name": "python",
   "nbconvert_exporter": "python",
   "pygments_lexer": "ipython3",
   "version": "3.6.7"
  }
 },
 "nbformat": 4,
 "nbformat_minor": 2
}
